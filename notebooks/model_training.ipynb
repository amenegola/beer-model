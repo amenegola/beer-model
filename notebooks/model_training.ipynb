{
 "cells": [
  {
   "cell_type": "markdown",
   "metadata": {},
   "source": [
    "# Model Training\n",
    "\n",
    "## Reading Data\n",
    "\n",
    "* Here, Athena with awswrangler lib is used to query from Glue Table"
   ]
  },
  {
   "cell_type": "code",
   "execution_count": 8,
   "metadata": {},
   "outputs": [],
   "source": [
    "import boto3\n",
    "import awswrangler as wr"
   ]
  },
  {
   "cell_type": "code",
   "execution_count": 9,
   "metadata": {},
   "outputs": [],
   "source": [
    "session = boto3.session.Session()"
   ]
  },
  {
   "cell_type": "code",
   "execution_count": 10,
   "metadata": {},
   "outputs": [],
   "source": [
    "df = wr.athena.read_sql_table(table='beer_cleaned_dev', database='random-beer-database', boto3_session=session)"
   ]
  },
  {
   "cell_type": "code",
   "execution_count": 11,
   "metadata": {},
   "outputs": [
    {
     "data": {
      "text/html": [
       "<div>\n",
       "<style scoped>\n",
       "    .dataframe tbody tr th:only-of-type {\n",
       "        vertical-align: middle;\n",
       "    }\n",
       "\n",
       "    .dataframe tbody tr th {\n",
       "        vertical-align: top;\n",
       "    }\n",
       "\n",
       "    .dataframe thead th {\n",
       "        text-align: right;\n",
       "    }\n",
       "</style>\n",
       "<table border=\"1\" class=\"dataframe\">\n",
       "  <thead>\n",
       "    <tr style=\"text-align: right;\">\n",
       "      <th></th>\n",
       "      <th>id</th>\n",
       "      <th>name</th>\n",
       "      <th>abv</th>\n",
       "      <th>ibu</th>\n",
       "      <th>target_fg</th>\n",
       "      <th>target_og</th>\n",
       "      <th>ebc</th>\n",
       "      <th>srm</th>\n",
       "      <th>ph</th>\n",
       "      <th>partition_0</th>\n",
       "      <th>partition_1</th>\n",
       "      <th>partition_2</th>\n",
       "      <th>partition_3</th>\n",
       "    </tr>\n",
       "  </thead>\n",
       "  <tbody>\n",
       "    <tr>\n",
       "      <th>0</th>\n",
       "      <td>171</td>\n",
       "      <td>Challenger</td>\n",
       "      <td>6.7</td>\n",
       "      <td>67.0</td>\n",
       "      <td>1013</td>\n",
       "      <td>1064.0</td>\n",
       "      <td>19.0</td>\n",
       "      <td>9.5</td>\n",
       "      <td>4.4</td>\n",
       "      <td>2021</td>\n",
       "      <td>04</td>\n",
       "      <td>07</td>\n",
       "      <td>17</td>\n",
       "    </tr>\n",
       "    <tr>\n",
       "      <th>1</th>\n",
       "      <td>102</td>\n",
       "      <td>Peach Therapy</td>\n",
       "      <td>9.0</td>\n",
       "      <td>30.0</td>\n",
       "      <td>1000</td>\n",
       "      <td>1071.0</td>\n",
       "      <td>12.0</td>\n",
       "      <td>6.0</td>\n",
       "      <td>3.6</td>\n",
       "      <td>2021</td>\n",
       "      <td>04</td>\n",
       "      <td>08</td>\n",
       "      <td>11</td>\n",
       "    </tr>\n",
       "    <tr>\n",
       "      <th>2</th>\n",
       "      <td>110</td>\n",
       "      <td>Truffle and Chocolate Stout - B-Sides</td>\n",
       "      <td>5.6</td>\n",
       "      <td>30.0</td>\n",
       "      <td>1015</td>\n",
       "      <td>1058.0</td>\n",
       "      <td>54.0</td>\n",
       "      <td>27.0</td>\n",
       "      <td>4.4</td>\n",
       "      <td>2021</td>\n",
       "      <td>04</td>\n",
       "      <td>08</td>\n",
       "      <td>08</td>\n",
       "    </tr>\n",
       "    <tr>\n",
       "      <th>3</th>\n",
       "      <td>84</td>\n",
       "      <td>Baby Saison - B-Sides</td>\n",
       "      <td>3.6</td>\n",
       "      <td>9.0</td>\n",
       "      <td>1004</td>\n",
       "      <td>1032.0</td>\n",
       "      <td>2.0</td>\n",
       "      <td>1.0</td>\n",
       "      <td>4.4</td>\n",
       "      <td>2021</td>\n",
       "      <td>04</td>\n",
       "      <td>08</td>\n",
       "      <td>11</td>\n",
       "    </tr>\n",
       "    <tr>\n",
       "      <th>4</th>\n",
       "      <td>78</td>\n",
       "      <td>AB:18</td>\n",
       "      <td>11.8</td>\n",
       "      <td>80.0</td>\n",
       "      <td>1020</td>\n",
       "      <td>1096.0</td>\n",
       "      <td>115.0</td>\n",
       "      <td>57.5</td>\n",
       "      <td>5.2</td>\n",
       "      <td>2021</td>\n",
       "      <td>04</td>\n",
       "      <td>08</td>\n",
       "      <td>08</td>\n",
       "    </tr>\n",
       "  </tbody>\n",
       "</table>\n",
       "</div>"
      ],
      "text/plain": [
       "    id                                   name   abv   ibu  target_fg  \\\n",
       "0  171                             Challenger   6.7  67.0       1013   \n",
       "1  102                          Peach Therapy   9.0  30.0       1000   \n",
       "2  110  Truffle and Chocolate Stout - B-Sides   5.6  30.0       1015   \n",
       "3   84                  Baby Saison - B-Sides   3.6   9.0       1004   \n",
       "4   78                                  AB:18  11.8  80.0       1020   \n",
       "\n",
       "   target_og    ebc   srm   ph partition_0 partition_1 partition_2 partition_3  \n",
       "0     1064.0   19.0   9.5  4.4        2021          04          07          17  \n",
       "1     1071.0   12.0   6.0  3.6        2021          04          08          11  \n",
       "2     1058.0   54.0  27.0  4.4        2021          04          08          08  \n",
       "3     1032.0    2.0   1.0  4.4        2021          04          08          11  \n",
       "4     1096.0  115.0  57.5  5.2        2021          04          08          08  "
      ]
     },
     "execution_count": 11,
     "metadata": {},
     "output_type": "execute_result"
    }
   ],
   "source": [
    "df.head()"
   ]
  },
  {
   "cell_type": "markdown",
   "metadata": {},
   "source": [
    "## Cleaning data\n",
    "\n",
    "* Some pre processing steps to clean data for model training. I performed these steps:\n",
    "    * Drop duplicated rows, since Punk API random queries potentially duplicated registers\n",
    "    * Drop records with _null_ ibu, because it will be the label and it needs to have a proper value\n",
    "    * Drop records with ibu outliers (above 1000), because these values are probably for marketing purposes"
   ]
  },
  {
   "cell_type": "code",
   "execution_count": 12,
   "metadata": {},
   "outputs": [],
   "source": [
    "columns = ['id','name','abv','ibu','target_fg','target_og','ebc','srm','ph']\n",
    "df = df[columns]"
   ]
  },
  {
   "cell_type": "code",
   "execution_count": 13,
   "metadata": {},
   "outputs": [],
   "source": [
    "df = df.drop_duplicates()"
   ]
  },
  {
   "cell_type": "code",
   "execution_count": 14,
   "metadata": {},
   "outputs": [
    {
     "data": {
      "text/plain": [
       "(226, 9)"
      ]
     },
     "execution_count": 14,
     "metadata": {},
     "output_type": "execute_result"
    }
   ],
   "source": [
    "df.shape"
   ]
  },
  {
   "cell_type": "code",
   "execution_count": 15,
   "metadata": {},
   "outputs": [
    {
     "data": {
      "text/html": [
       "<div>\n",
       "<style scoped>\n",
       "    .dataframe tbody tr th:only-of-type {\n",
       "        vertical-align: middle;\n",
       "    }\n",
       "\n",
       "    .dataframe tbody tr th {\n",
       "        vertical-align: top;\n",
       "    }\n",
       "\n",
       "    .dataframe thead th {\n",
       "        text-align: right;\n",
       "    }\n",
       "</style>\n",
       "<table border=\"1\" class=\"dataframe\">\n",
       "  <thead>\n",
       "    <tr style=\"text-align: right;\">\n",
       "      <th></th>\n",
       "      <th>id</th>\n",
       "      <th>abv</th>\n",
       "      <th>ibu</th>\n",
       "      <th>target_fg</th>\n",
       "      <th>target_og</th>\n",
       "      <th>ebc</th>\n",
       "      <th>srm</th>\n",
       "      <th>ph</th>\n",
       "    </tr>\n",
       "  </thead>\n",
       "  <tbody>\n",
       "    <tr>\n",
       "      <th>count</th>\n",
       "      <td>226.000000</td>\n",
       "      <td>226.000000</td>\n",
       "      <td>221.000000</td>\n",
       "      <td>225.000000</td>\n",
       "      <td>225.000000</td>\n",
       "      <td>221.000000</td>\n",
       "      <td>221.000000</td>\n",
       "      <td>224.000000</td>\n",
       "    </tr>\n",
       "    <tr>\n",
       "      <th>mean</th>\n",
       "      <td>159.659292</td>\n",
       "      <td>7.675088</td>\n",
       "      <td>65.957014</td>\n",
       "      <td>1014.800000</td>\n",
       "      <td>1064.772000</td>\n",
       "      <td>60.191403</td>\n",
       "      <td>30.589864</td>\n",
       "      <td>4.392857</td>\n",
       "    </tr>\n",
       "    <tr>\n",
       "      <th>std</th>\n",
       "      <td>91.823666</td>\n",
       "      <td>5.126127</td>\n",
       "      <td>106.644819</td>\n",
       "      <td>14.014342</td>\n",
       "      <td>27.120939</td>\n",
       "      <td>76.835615</td>\n",
       "      <td>38.606541</td>\n",
       "      <td>0.349815</td>\n",
       "    </tr>\n",
       "    <tr>\n",
       "      <th>min</th>\n",
       "      <td>1.000000</td>\n",
       "      <td>0.500000</td>\n",
       "      <td>8.000000</td>\n",
       "      <td>1000.000000</td>\n",
       "      <td>1007.000000</td>\n",
       "      <td>2.000000</td>\n",
       "      <td>1.000000</td>\n",
       "      <td>3.200000</td>\n",
       "    </tr>\n",
       "    <tr>\n",
       "      <th>25%</th>\n",
       "      <td>82.500000</td>\n",
       "      <td>5.025000</td>\n",
       "      <td>35.000000</td>\n",
       "      <td>1010.000000</td>\n",
       "      <td>1048.000000</td>\n",
       "      <td>15.000000</td>\n",
       "      <td>8.000000</td>\n",
       "      <td>4.375000</td>\n",
       "    </tr>\n",
       "    <tr>\n",
       "      <th>50%</th>\n",
       "      <td>160.000000</td>\n",
       "      <td>6.850000</td>\n",
       "      <td>50.000000</td>\n",
       "      <td>1012.000000</td>\n",
       "      <td>1064.000000</td>\n",
       "      <td>28.000000</td>\n",
       "      <td>15.000000</td>\n",
       "      <td>4.400000</td>\n",
       "    </tr>\n",
       "    <tr>\n",
       "      <th>75%</th>\n",
       "      <td>235.750000</td>\n",
       "      <td>8.200000</td>\n",
       "      <td>70.000000</td>\n",
       "      <td>1015.000000</td>\n",
       "      <td>1076.000000</td>\n",
       "      <td>67.000000</td>\n",
       "      <td>40.000000</td>\n",
       "      <td>4.400000</td>\n",
       "    </tr>\n",
       "    <tr>\n",
       "      <th>max</th>\n",
       "      <td>325.000000</td>\n",
       "      <td>55.000000</td>\n",
       "      <td>1157.000000</td>\n",
       "      <td>1120.000000</td>\n",
       "      <td>1157.000000</td>\n",
       "      <td>400.000000</td>\n",
       "      <td>200.000000</td>\n",
       "      <td>5.300000</td>\n",
       "    </tr>\n",
       "  </tbody>\n",
       "</table>\n",
       "</div>"
      ],
      "text/plain": [
       "               id         abv          ibu    target_fg    target_og  \\\n",
       "count  226.000000  226.000000   221.000000   225.000000   225.000000   \n",
       "mean   159.659292    7.675088    65.957014  1014.800000  1064.772000   \n",
       "std     91.823666    5.126127   106.644819    14.014342    27.120939   \n",
       "min      1.000000    0.500000     8.000000  1000.000000  1007.000000   \n",
       "25%     82.500000    5.025000    35.000000  1010.000000  1048.000000   \n",
       "50%    160.000000    6.850000    50.000000  1012.000000  1064.000000   \n",
       "75%    235.750000    8.200000    70.000000  1015.000000  1076.000000   \n",
       "max    325.000000   55.000000  1157.000000  1120.000000  1157.000000   \n",
       "\n",
       "              ebc         srm          ph  \n",
       "count  221.000000  221.000000  224.000000  \n",
       "mean    60.191403   30.589864    4.392857  \n",
       "std     76.835615   38.606541    0.349815  \n",
       "min      2.000000    1.000000    3.200000  \n",
       "25%     15.000000    8.000000    4.375000  \n",
       "50%     28.000000   15.000000    4.400000  \n",
       "75%     67.000000   40.000000    4.400000  \n",
       "max    400.000000  200.000000    5.300000  "
      ]
     },
     "execution_count": 15,
     "metadata": {},
     "output_type": "execute_result"
    }
   ],
   "source": [
    "df.describe()"
   ]
  },
  {
   "cell_type": "code",
   "execution_count": 16,
   "metadata": {},
   "outputs": [
    {
     "data": {
      "text/plain": [
       "id           0\n",
       "name         0\n",
       "abv          0\n",
       "ibu          5\n",
       "target_fg    1\n",
       "target_og    1\n",
       "ebc          5\n",
       "srm          5\n",
       "ph           2\n",
       "dtype: int64"
      ]
     },
     "execution_count": 16,
     "metadata": {},
     "output_type": "execute_result"
    }
   ],
   "source": [
    "df.isnull().sum()"
   ]
  },
  {
   "cell_type": "code",
   "execution_count": 17,
   "metadata": {},
   "outputs": [],
   "source": [
    "df = df[~df.ibu.isnull()]"
   ]
  },
  {
   "cell_type": "code",
   "execution_count": 18,
   "metadata": {},
   "outputs": [
    {
     "data": {
      "text/plain": [
       "id           0\n",
       "name         0\n",
       "abv          0\n",
       "ibu          0\n",
       "target_fg    0\n",
       "target_og    0\n",
       "ebc          3\n",
       "srm          3\n",
       "ph           1\n",
       "dtype: int64"
      ]
     },
     "execution_count": 18,
     "metadata": {},
     "output_type": "execute_result"
    }
   ],
   "source": [
    "df.isnull().sum()"
   ]
  },
  {
   "cell_type": "code",
   "execution_count": 19,
   "metadata": {},
   "outputs": [],
   "source": [
    "df.target_fg = df.target_fg.astype(int)"
   ]
  },
  {
   "cell_type": "code",
   "execution_count": 20,
   "metadata": {},
   "outputs": [
    {
     "data": {
      "text/plain": [
       "<AxesSubplot:>"
      ]
     },
     "execution_count": 20,
     "metadata": {},
     "output_type": "execute_result"
    },
    {
     "data": {
      "image/png": "[encoded data removed]",
      "text/plain": [
       "<Figure size 432x288 with 1 Axes>"
      ]
     },
     "metadata": {
      "needs_background": "light"
     },
     "output_type": "display_data"
    }
   ],
   "source": [
    "df.ibu.hist(bins=50)"
   ]
  },
  {
   "cell_type": "code",
   "execution_count": 21,
   "metadata": {},
   "outputs": [],
   "source": [
    "df = df[df.ibu < 1000]"
   ]
  },
  {
   "cell_type": "code",
   "execution_count": 22,
   "metadata": {},
   "outputs": [
    {
     "data": {
      "text/plain": [
       "<AxesSubplot:>"
      ]
     },
     "execution_count": 22,
     "metadata": {},
     "output_type": "execute_result"
    },
    {
     "data": {
      "image/png": "[encoded data removed]",
      "text/plain": [
       "<Figure size 432x288 with 1 Axes>"
      ]
     },
     "metadata": {
      "needs_background": "light"
     },
     "output_type": "display_data"
    }
   ],
   "source": [
    "df.ibu.hist(bins=50)"
   ]
  },
  {
   "cell_type": "markdown",
   "metadata": {},
   "source": [
    "# Model Training and Evaluation\n",
    "\n",
    "* Here are the steps for model training and evaluation\n",
    "    * Creation of features and label datasets\n",
    "    * XGBoost is the chosen model because not only it is generally a good performing model, but it deals with _null_ feature values, so that I don't need to worry about a feature value not showing from Punk API.\n",
    "    * 5 fold cross validation for a better performance estimation in a production environment\n",
    "    * RMSE value reported because this metric have same unit as label (IBU)"
   ]
  },
  {
   "cell_type": "code",
   "execution_count": 23,
   "metadata": {},
   "outputs": [
    {
     "name": "stderr",
     "output_type": "stream",
     "text": [
      "/home/afonso/anaconda3/lib/python3.7/site-packages/dask/dataframe/utils.py:14: FutureWarning: pandas.util.testing is deprecated. Use the functions in the public API at pandas.testing instead.\n",
      "  import pandas.util.testing as tm\n"
     ]
    }
   ],
   "source": [
    "import xgboost\n",
    "from sklearn.model_selection import KFold\n",
    "from sklearn.model_selection import cross_val_score"
   ]
  },
  {
   "cell_type": "code",
   "execution_count": 24,
   "metadata": {},
   "outputs": [],
   "source": [
    "features = ['abv','target_fg','target_og','ebc','srm','ph']\n",
    "label = ['ibu']\n",
    "X = df[features]\n",
    "y = df[label]"
   ]
  },
  {
   "cell_type": "code",
   "execution_count": 25,
   "metadata": {},
   "outputs": [
    {
     "name": "stdout",
     "output_type": "stream",
     "text": [
      "[20.67264266 36.6163092  36.96849923 45.46774803 27.96804216]\n",
      "RMSE: 33.54 (8.49)\n"
     ]
    }
   ],
   "source": [
    "model = xgboost.XGBRegressor(n_estimators=500, max_depth=3)\n",
    "kfold = KFold(n_splits=5, shuffle=True, random_state=7)\n",
    "results = cross_val_score(model, X, y, cv=kfold, scoring='neg_root_mean_squared_error') * -1\n",
    "print(results)\n",
    "print(\"RMSE: %.2f (%.2f)\" % (results.mean(), results.std()))"
   ]
  },
  {
   "cell_type": "markdown",
   "metadata": {},
   "source": [
    "# Model training for production\n",
    "\n",
    "* For production, I used all data to train the final model\n",
    "* Model is uploaded to a s3 bucket so that it can be fetched in the production environment. This is a simple solution, in the real world we would need a model versioning framework (such as MLFlow)\n",
    "* This model wouldn't be put in production in the real world, because its conception has several flaws. It's just a toy example so that we can test MLOps concepts."
   ]
  },
  {
   "cell_type": "code",
   "execution_count": 33,
   "metadata": {},
   "outputs": [
    {
     "data": {
      "text/plain": [
       "XGBRegressor(base_score=0.5, booster='gbtree', colsample_bylevel=1,\n",
       "             colsample_bynode=1, colsample_bytree=1, gamma=0, gpu_id=-1,\n",
       "             importance_type='gain', interaction_constraints='',\n",
       "             learning_rate=0.300000012, max_delta_step=0, max_depth=3,\n",
       "             min_child_weight=1, missing=nan, monotone_constraints='()',\n",
       "             n_estimators=500, n_jobs=0, num_parallel_tree=1, random_state=0,\n",
       "             reg_alpha=0, reg_lambda=1, scale_pos_weight=1, subsample=1,\n",
       "             tree_method='exact', validate_parameters=1, verbosity=None)"
      ]
     },
     "execution_count": 33,
     "metadata": {},
     "output_type": "execute_result"
    }
   ],
   "source": [
    "X_array = X.values\n",
    "y_array = y.values\n",
    "\n",
    "model = xgboost.XGBRegressor(n_estimators=500, max_depth=3)\n",
    "model.fit(X_array, y_array)"
   ]
  },
  {
   "cell_type": "code",
   "execution_count": 35,
   "metadata": {},
   "outputs": [],
   "source": [
    "import tempfile\n",
    "import os\n",
    "import joblib\n",
    "\n",
    "s3 = boto3.client('s3')\n",
    "\n",
    "with tempfile.TemporaryDirectory() as tmpdirname:\n",
    "    model_path = os.path.join(tmpdirname,'model.joblib')\n",
    "    joblib.dump(model, model_path) \n",
    "    \n",
    "    dataset_path = os.path.join(tmpdirname,'model_dataset.csv')\n",
    "    dataset = df.to_csv(dataset_path, index=False)\n",
    "    \n",
    "    s3.upload_file(model_path, 'beer-model-artifacts', 'model.joblib')\n",
    "    s3.upload_file(dataset_path, 'beer-model-artifacts', 'model_dataset.csv')"
   ]
  },
  {
   "cell_type": "code",
   "execution_count": 36,
   "metadata": {},
   "outputs": [
    {
     "data": {
      "text/plain": [
       "XGBRegressor(base_score=0.5, booster='gbtree', colsample_bylevel=1,\n",
       "             colsample_bynode=1, colsample_bytree=1, gamma=0, gpu_id=-1,\n",
       "             importance_type='gain', interaction_constraints='',\n",
       "             learning_rate=0.300000012, max_delta_step=0, max_depth=3,\n",
       "             min_child_weight=1, missing=nan, monotone_constraints='()',\n",
       "             n_estimators=500, n_jobs=0, num_parallel_tree=1, random_state=0,\n",
       "             reg_alpha=0, reg_lambda=1, scale_pos_weight=1, subsample=1,\n",
       "             tree_method='exact', validate_parameters=1, verbosity=None)"
      ]
     },
     "execution_count": 36,
     "metadata": {},
     "output_type": "execute_result"
    }
   ],
   "source": [
    "s3.download_file('beer-model-artifacts', 'model.joblib', 'model.joblib')\n",
    "model = joblib.load('model.joblib')\n",
    "model"
   ]
  },
  {
   "cell_type": "code",
   "execution_count": 47,
   "metadata": {},
   "outputs": [],
   "source": [
    "import numpy as np\n",
    "example = np.array([6.7,1013,1064.0,19.0,9.5,4.4]).reshape(1, -1)"
   ]
  },
  {
   "cell_type": "code",
   "execution_count": 48,
   "metadata": {},
   "outputs": [
    {
     "data": {
      "text/plain": [
       "array([67.07364], dtype=float32)"
      ]
     },
     "execution_count": 48,
     "metadata": {},
     "output_type": "execute_result"
    }
   ],
   "source": [
    "model.predict(example)"
   ]
  }
 ],
 "metadata": {
  "kernelspec": {
   "display_name": "Python 3",
   "language": "python",
   "name": "python3"
  },
  "language_info": {
   "codemirror_mode": {
    "name": "ipython",
    "version": 3
   },
   "file_extension": ".py",
   "mimetype": "text/x-python",
   "name": "python",
   "nbconvert_exporter": "python",
   "pygments_lexer": "ipython3",
   "version": "3.7.4"
  }
 },
 "nbformat": 4,
 "nbformat_minor": 2
}
